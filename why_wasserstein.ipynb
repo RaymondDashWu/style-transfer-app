{
 "cells": [
  {
   "cell_type": "code",
   "execution_count": 1,
   "metadata": {
    "collapsed": true
   },
   "outputs": [],
   "source": [
    "import numpy as np\n",
    "import matplotlib.pyplot as plt\n",
    "from tabulate import tabulate\n",
    "\n",
    "%matplotlib inline"
   ]
  },
  {
   "cell_type": "markdown",
   "metadata": {},
   "source": [
    "# 1. Problems with comparing Gram matrices\n",
    "\n",
    "The style-loss function employed in [Gatys et al](https://arxiv.org/abs/1508.06576) is the sum of the squares (or squared Froebenius norm) of the differences of Gram matrices of the activations enduced by the style image and the subject/synthesized image in the feature space of a given layer of the network.  \n",
    "\n",
    "A [Gram matrix](https://en.wikipedia.org/wiki/Gramian_matrix) is a non-central second moment. The example below is designed to illustrate how variables can have different [central moments](https://en.wikipedia.org/wiki/Moment_(mathematics) (means and covariances) but identical Gram matrices. \n",
    "\n",
    "Consider two [multivariate guassian](https://en.wikipedia.org/wiki/Multivariate_normal_distribution) random vectors, X and Y, in three dimensional Euclidean space with means and covariances (central moments) specified:"
   ]
  },
  {
   "cell_type": "code",
   "execution_count": 2,
   "metadata": {
    "collapsed": true
   },
   "outputs": [],
   "source": [
    "mean_X = np.array([[0.0,-0.5,0.5]])\n",
    "corr_X = np.array([[1.,-.5,0.],[-.5,1.,0.],[0.,0.,1.]])\n",
    "sigma_X = np.array([[1., 1., 1.]])\n",
    "cov_X = sigma_X.T*corr_X*sigma_X #covariance matrix derived from corr and sigma to ensure positive semi-definite\n",
    "\n",
    "mean_Y = np.array([[1.,-.5,0.]])\n",
    "corr_Y = np.array([[1.,0.,-.5],[0.,1.,-.25/np.sqrt(1.25)],[-.5,-.25/np.sqrt(1.25),1.]])\n",
    "sigma_Y = np.array([[0, 1., np.sqrt(1.25)]])\n",
    "cov_Y = sigma_Y.T*corr_Y*sigma_Y"
   ]
  },
  {
   "cell_type": "markdown",
   "metadata": {},
   "source": [
    "### Lets generate random samples from these distributions and plot them in RGB space:"
   ]
  },
  {
   "cell_type": "code",
   "execution_count": 3,
   "metadata": {},
   "outputs": [
    {
     "name": "stdout",
     "output_type": "stream",
     "text": [
      "5 samples of X: \n",
      " [[ 1.09023702 -0.65989525  0.62671565]\n",
      " [ 1.65052411 -1.53607747 -0.05604886]\n",
      " [ 1.9735886  -1.90385998  3.00659452]\n",
      " [-0.84796551  0.26014013  2.52513163]\n",
      " [-0.39932609 -1.02251608 -1.10496079]] \n",
      " \n",
      " 5 samples of Y: \n",
      " [[ 1.         -1.14871992  1.3497165 ]\n",
      " [ 1.          0.0364237   0.00707374]\n",
      " [ 1.         -2.1070868   0.11619713]\n",
      " [ 1.         -1.41479725  0.28771887]\n",
      " [ 1.         -0.15351611 -1.94316   ]] \n",
      "\n"
     ]
    },
    {
     "data": {
      "text/plain": [
       "<matplotlib.image.AxesImage at 0x7f68704ff550>"
      ]
     },
     "execution_count": 3,
     "metadata": {},
     "output_type": "execute_result"
    },
    {
     "data": {
      "image/png": "[encoded data removed]",
      "text/plain": [
       "<matplotlib.figure.Figure at 0x7f68389303c8>"
      ]
     },
     "metadata": {},
     "output_type": "display_data"
    }
   ],
   "source": [
    "samples_X = np.random.multivariate_normal(mean_X[0], cov_X, 10000)\n",
    "samples_Y = np.random.multivariate_normal(mean_Y[0], cov_Y, 10000)\n",
    "\n",
    "print(\"5 samples of X:\", \"\\n\", samples_X[:5], \"\\n \\n\", \"5 samples of Y:\", \"\\n\", samples_Y[:5], \"\\n\")\n",
    "\n",
    "fig, axes = plt.subplots(1, 2, figsize=(10, 10),\n",
    "                         subplot_kw={'xticks': [], 'yticks': []})\n",
    "\n",
    "axes[0].set_title('400 samples of X')\n",
    "axes[0].imshow(samples_X[:400].reshape((20,20,3)))\n",
    "\n",
    "axes[1].set_title('400 samples of Y')\n",
    "axes[1].imshow(samples_Y[:400].reshape((20,20,3)))\n"
   ]
  },
  {
   "cell_type": "markdown",
   "metadata": {},
   "source": [
    "### And calculate the observed Gram matrices over 10,000 samples:"
   ]
  },
  {
   "cell_type": "code",
   "execution_count": 4,
   "metadata": {},
   "outputs": [
    {
     "name": "stdout",
     "output_type": "stream",
     "text": [
      "Observed Gram matrix of X: \n",
      " [[  1.00512e+00  -5.20003e-01  -5.09802e-05]\n",
      " [ -5.20003e-01   1.26724e+00  -2.49250e-01]\n",
      " [ -5.09802e-05  -2.49250e-01   1.23205e+00]] \n",
      "\n",
      "Observed Gram matrix of Y: \n",
      " [[ 1.      -0.48827  0.00373]\n",
      " [-0.48827  1.23418 -0.23555]\n",
      " [ 0.00373 -0.23555  1.2431 ]] \n",
      "\n",
      "Squared difference of observed Gram matrices: 0.00365975769186\n"
     ]
    }
   ],
   "source": [
    "gram_X = np.matmul(samples_X.T, samples_X)/samples_X.shape[0]\n",
    "gram_Y = np.matmul(samples_Y.T, samples_Y)/samples_Y.shape[0]\n",
    "\n",
    "np.set_printoptions(precision=5)\n",
    "\n",
    "print(\"Observed Gram matrix of X:\", \"\\n\", gram_X, \"\\n\")\n",
    "\n",
    "print(\"Observed Gram matrix of Y:\", \"\\n\", gram_Y, \"\\n\")\n",
    "\n",
    "print(\"Squared difference of observed Gram matrices:\", np.sum((gram_X-gram_Y)**2))\n",
    "\n"
   ]
  },
  {
   "cell_type": "markdown",
   "metadata": {},
   "source": [
    "### The style-loss function used in Gatys et al. would see these random vectors as identical (to some precision). \n",
    "\n",
    "Yet, visually they are very different. This is because the sum of squared differences of Gram matrices is not a valid metric on random vectors with non-zero means and non-zero central second moments. Here, the [Identity of Indiscernibles](https://en.wikipedia.org/wiki/Identity_of_indiscernibles) is violated."
   ]
  },
  {
   "cell_type": "markdown",
   "metadata": {},
   "source": [
    "# 2. Wasserstein/Earth Mover's Distance is a valid metric.\n",
    "\n",
    "There is a headache, however, in that calculating it becomes computationally huge:"
   ]
  },
  {
   "cell_type": "code",
   "execution_count": 5,
   "metadata": {},
   "outputs": [
    {
     "name": "stdout",
     "output_type": "stream",
     "text": [
      "To calculate non-parametric Wasserstein/Earth Mover's Distance:\n",
      "Distance matrix size for float32: 10.1 gb\n",
      "Once have dist matrix, to calc EMD: 126.3 TFLOPS\n"
     ]
    }
   ],
   "source": [
    "n_pixels = 224*224 #or n_samples\n",
    "n_features = 64\n",
    "\n",
    "distance_matrix_size = ((n_pixels)**2)*(32/8)/(10**9)\n",
    "tflops_per_evaulation = (n_pixels)**3/(10**12)\n",
    "\n",
    "print(\"To calculate non-parametric Wasserstein/Earth Mover's Distance:\")\n",
    "print(\"Distance matrix size for float32: {:4.1f} gb\".format(distance_matrix_size))\n",
    "print(\"Once have dist matrix, to calc EMD: {:4.1f} TFLOPS\".format(tflops_per_evaulation))"
   ]
  },
  {
   "cell_type": "markdown",
   "metadata": {},
   "source": [
    "We can simplify this greatly by assuming our distributions are fully characterized by their respective first 2 central moments (or in other words, they are Multivariate Gaussians, symmetric about means with ellipsoid equi-density contours).  This gives us a [closed form calculation](https://projecteuclid.org/download/pdf_1/euclid.mmj/1029003026) that is readily computable. "
   ]
  },
  {
   "cell_type": "code",
   "execution_count": 6,
   "metadata": {
    "collapsed": true
   },
   "outputs": [],
   "source": [
    "def wdist_gaussian(m1, cov1, m2, cov2): \n",
    "  mean_diff = np.sum((m1-m2)**2)\n",
    "  var_components = np.trace(cov1+cov2)\n",
    "  #need to round to prevent eigenvalues very close to zero from becoming negative\n",
    "  var_overlap = np.sum(np.sqrt(np.round(np.linalg.eigvals(np.matmul(cov1,cov2)),5)))\n",
    "  \n",
    "  return  np.sqrt(mean_diff+var_components-2*var_overlap)\n"
   ]
  },
  {
   "cell_type": "code",
   "execution_count": 7,
   "metadata": {},
   "outputs": [
    {
     "data": {
      "text/plain": [
       "1.5135220191046239"
      ]
     },
     "execution_count": 7,
     "metadata": {},
     "output_type": "execute_result"
    }
   ],
   "source": [
    "wdist_gaussian(mean_X, cov_X, mean_Y, cov_Y)"
   ]
  },
  {
   "cell_type": "markdown",
   "metadata": {},
   "source": [
    "### This loss formulation is not perfect for all situations\n",
    "\n",
    "It requires assuming the random vectors are Gaussian which may not be appropriate when distributions are heavily skewed in some dimensions. In practice it seems to work quite well for style transfer. "
   ]
  }
 ],
 "metadata": {
  "kernelspec": {
   "display_name": "Python 3",
   "language": "python",
   "name": "python3"
  },
  "language_info": {
   "codemirror_mode": {
    "name": "ipython",
    "version": 3
   },
   "file_extension": ".py",
   "mimetype": "text/x-python",
   "name": "python",
   "nbconvert_exporter": "python",
   "pygments_lexer": "ipython3",
   "version": "3.5.4"
  }
 },
 "nbformat": 4,
 "nbformat_minor": 2
}
